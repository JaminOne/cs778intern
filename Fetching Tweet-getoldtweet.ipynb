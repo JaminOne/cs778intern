{
  "nbformat": 4,
  "nbformat_minor": 0,
  "metadata": {
    "colab": {
      "name": "Copy_of_tweet_(1).ipynb",
      "provenance": [],
      "collapsed_sections": []
    },
    "kernelspec": {
      "display_name": "Python 3",
      "language": "python",
      "name": "python3"
    },
    "language_info": {
      "codemirror_mode": {
        "name": "ipython",
        "version": 3
      },
      "file_extension": ".py",
      "mimetype": "text/x-python",
      "name": "python",
      "nbconvert_exporter": "python",
      "pygments_lexer": "ipython3",
      "version": "3.7.3"
    }
  },
  "cells": [
    {
      "cell_type": "markdown",
      "metadata": {
        "id": "7Px0gEBsOu3c",
        "colab_type": "text"
      },
      "source": [
        "<table align=\"left\">\n",
        "  <td>\n",
        "    <a target=\"_blank\" href=\"https://colab.research.google.com/drive/1zNauf0OFQPeR-TpQL15a-yZNfqYfnC33?authuser=1\"><img src=\"https://www.tensorflow.org/images/colab_logo_32px.png\" />Run in Google Colab</a>\n",
        "  </td>\n",
        "</table>"
      ]
    },
    {
      "cell_type": "code",
      "metadata": {
        "colab_type": "code",
        "id": "ohHW9SmkjSO7",
        "colab": {
          "base_uri": "https://localhost:8080/",
          "height": 175
        },
        "outputId": "63665ec2-ab8d-4046-c61d-14563a9d1c76"
      },
      "source": [
        "pip install GetOldTweets3"
      ],
      "execution_count": 1,
      "outputs": [
        {
          "output_type": "stream",
          "text": [
            "Collecting GetOldTweets3\n",
            "  Downloading https://files.pythonhosted.org/packages/ed/f4/a00c2a7c90801abc875325bb5416ce9090ac86d06a00cc887131bd73ba45/GetOldTweets3-0.0.11-py3-none-any.whl\n",
            "Requirement already satisfied: lxml>=3.5.0 in /usr/local/lib/python3.6/dist-packages (from GetOldTweets3) (4.2.6)\n",
            "Collecting pyquery>=1.2.10\n",
            "  Downloading https://files.pythonhosted.org/packages/78/43/95d42e386c61cb639d1a0b94f0c0b9f0b7d6b981ad3c043a836c8b5bc68b/pyquery-1.4.1-py2.py3-none-any.whl\n",
            "Collecting cssselect>0.7.9\n",
            "  Downloading https://files.pythonhosted.org/packages/3b/d4/3b5c17f00cce85b9a1e6f91096e1cc8e8ede2e1be8e96b87ce1ed09e92c5/cssselect-1.1.0-py2.py3-none-any.whl\n",
            "Installing collected packages: cssselect, pyquery, GetOldTweets3\n",
            "Successfully installed GetOldTweets3-0.0.11 cssselect-1.1.0 pyquery-1.4.1\n"
          ],
          "name": "stdout"
        }
      ]
    },
    {
      "cell_type": "code",
      "metadata": {
        "id": "6bYpXYYVZvB-",
        "colab_type": "code",
        "colab": {}
      },
      "source": [
        ""
      ],
      "execution_count": 1,
      "outputs": []
    },
    {
      "cell_type": "code",
      "metadata": {
        "id": "rPGd0UjrPFO2",
        "colab_type": "code",
        "colab": {}
      },
      "source": [
        ""
      ],
      "execution_count": 1,
      "outputs": []
    },
    {
      "cell_type": "code",
      "metadata": {
        "colab_type": "code",
        "id": "_mcWjUGmjM3b",
        "colab": {}
      },
      "source": [
        "import GetOldTweets3 as got\n",
        "import pandas as pd\n",
        "import time"
      ],
      "execution_count": 2,
      "outputs": []
    },
    {
      "cell_type": "code",
      "metadata": {
        "id": "4l4s6E51O7rX",
        "colab_type": "code",
        "colab": {}
      },
      "source": [
        "def get_tweets(state, startdate, enddate, maxtweet,radius):\n",
        "    tweetCriteria = got.manager.TweetCriteria().setNear(state)\\\n",
        "                                              .setSince(startdate)\\\n",
        "                                              .setUntil(enddate)\\\n",
        "                                              .setWithin(radius)\\\n",
        "                                              .setMaxTweets(maxtweet)\n",
        "    tweet = got.manager.TweetManager.getTweets(tweetCriteria)\n",
        "    \n",
        "    text_tweets = [[tw.username,\n",
        "                tw.text,\n",
        "                tw.date,\n",
        "                tw.retweets,\n",
        "                tw.favorites,\n",
        "                tw.mentions,\n",
        "                tw.hashtags,\n",
        "                tw.geo] for tw in tweet]\n",
        "    df_state= pd.DataFrame(text_tweets, columns = ['User', 'Text', 'Date', 'Favorites', 'Retweets', 'Mentions','Hashtags', 'Geolocation'])\n",
        "    \n",
        "    return df_state"
      ],
      "execution_count": 3,
      "outputs": []
    },
    {
      "cell_type": "code",
      "metadata": {
        "colab_type": "code",
        "id": "6CTEIHHujZla",
        "colab": {
          "base_uri": "https://localhost:8080/",
          "height": 185
        },
        "outputId": "54f8335d-7341-44a7-8b03-a08476692767"
      },
      "source": [
        "start_time = time.process_time()\n",
        "df_wellington = get_tweets(\"Wellington, New Zealand\",\"2020-03-25\",\"2020-03-26\",100000,\"500mi\")\n",
        "elapsed_time = time.process_time() - start_time\n",
        "print(elapsed_time)"
      ],
      "execution_count": 7,
      "outputs": [
        {
          "output_type": "stream",
          "text": [
            "An error occured during an HTTP request: HTTP Error 429: Too Many Requests\n",
            "Try to open in browser: https://twitter.com/search?q=%20near%3A%22Wellington%2C%20New%20Zealand%22%20within%3A500mi%20since%3A2020-03-25%20until%3A2020-03-26&src=typd\n"
          ],
          "name": "stdout"
        },
        {
          "output_type": "error",
          "ename": "SystemExit",
          "evalue": "ignored",
          "traceback": [
            "An exception has occurred, use %tb to see the full traceback.\n",
            "\u001b[0;31mSystemExit\u001b[0m\n"
          ]
        },
        {
          "output_type": "stream",
          "text": [
            "/usr/local/lib/python3.6/dist-packages/IPython/core/interactiveshell.py:2890: UserWarning: To exit: use 'exit', 'quit', or Ctrl-D.\n",
            "  warn(\"To exit: use 'exit', 'quit', or Ctrl-D.\", stacklevel=1)\n"
          ],
          "name": "stderr"
        }
      ]
    },
    {
      "cell_type": "code",
      "metadata": {
        "colab_type": "code",
        "id": "V__vSJTwkAf9",
        "colab": {
          "base_uri": "https://localhost:8080/",
          "height": 47
        },
        "outputId": "c52a8a03-6c19-4785-c481-18295c0d0b56"
      },
      "source": [
        "\n",
        "df_wellington.tail()"
      ],
      "execution_count": 5,
      "outputs": [
        {
          "output_type": "execute_result",
          "data": {
            "text/html": [
              "<div>\n",
              "<style scoped>\n",
              "    .dataframe tbody tr th:only-of-type {\n",
              "        vertical-align: middle;\n",
              "    }\n",
              "\n",
              "    .dataframe tbody tr th {\n",
              "        vertical-align: top;\n",
              "    }\n",
              "\n",
              "    .dataframe thead th {\n",
              "        text-align: right;\n",
              "    }\n",
              "</style>\n",
              "<table border=\"1\" class=\"dataframe\">\n",
              "  <thead>\n",
              "    <tr style=\"text-align: right;\">\n",
              "      <th></th>\n",
              "      <th>User</th>\n",
              "      <th>Text</th>\n",
              "      <th>Date</th>\n",
              "      <th>Favorites</th>\n",
              "      <th>Retweets</th>\n",
              "      <th>Mentions</th>\n",
              "      <th>Hashtags</th>\n",
              "      <th>Geolocation</th>\n",
              "    </tr>\n",
              "  </thead>\n",
              "  <tbody>\n",
              "  </tbody>\n",
              "</table>\n",
              "</div>"
            ],
            "text/plain": [
              "Empty DataFrame\n",
              "Columns: [User, Text, Date, Favorites, Retweets, Mentions, Hashtags, Geolocation]\n",
              "Index: []"
            ]
          },
          "metadata": {
            "tags": []
          },
          "execution_count": 5
        }
      ]
    },
    {
      "cell_type": "code",
      "metadata": {
        "colab_type": "code",
        "id": "wTr5vTk9khAp",
        "colab": {}
      },
      "source": [
        "df_wellington.to_csv(\"Wellingtontweets.csv\")"
      ],
      "execution_count": null,
      "outputs": []
    },
    {
      "cell_type": "code",
      "metadata": {
        "colab_type": "code",
        "id": "8ryAcmq4mTvO",
        "colab": {
          "base_uri": "https://localhost:8080/",
          "height": 34
        },
        "outputId": "00cccc17-d3cc-47d1-d63f-c184b1c84eb6"
      },
      "source": [
        "covid_count = df_wellington.Text.str.count(\"covid|corona|covi|virus\")\n",
        "covid_count.sum()"
      ],
      "execution_count": null,
      "outputs": [
        {
          "output_type": "execute_result",
          "data": {
            "text/plain": [
              "500"
            ]
          },
          "metadata": {
            "tags": []
          },
          "execution_count": 19
        }
      ]
    },
    {
      "cell_type": "code",
      "metadata": {
        "id": "xwITkmTXmdjE",
        "colab_type": "code",
        "colab": {
          "base_uri": "https://localhost:8080/",
          "height": 158
        },
        "outputId": "6cdda34b-f2af-48e7-f624-d4851cca5a8a"
      },
      "source": [
        "covid_count.value_counts()"
      ],
      "execution_count": null,
      "outputs": [
        {
          "output_type": "execute_result",
          "data": {
            "text/plain": [
              "0    9704\n",
              "1     138\n",
              "2     127\n",
              "3      20\n",
              "4       8\n",
              "5       2\n",
              "6       1\n",
              "Name: Text, dtype: int64"
            ]
          },
          "metadata": {
            "tags": []
          },
          "execution_count": 23
        }
      ]
    },
    {
      "cell_type": "code",
      "metadata": {
        "colab_type": "code",
        "id": "-NBPQY9zoBxF",
        "colab": {}
      },
      "source": [
        "df_covid=df_wellington[df_wellington.Text.str.contains(\"corona|covi|virus|lockdown|bubble|home|level|sanit\")]"
      ],
      "execution_count": null,
      "outputs": []
    },
    {
      "cell_type": "code",
      "metadata": {
        "id": "xV7-i7jWpAIL",
        "colab_type": "code",
        "colab": {}
      },
      "source": [
        "df_covid.set_index('Date', inplace=True)"
      ],
      "execution_count": null,
      "outputs": []
    },
    {
      "cell_type": "code",
      "metadata": {
        "id": "2i5KR9uHpC9q",
        "colab_type": "code",
        "colab": {
          "base_uri": "https://localhost:8080/",
          "height": 225
        },
        "outputId": "805315c7-8fc2-4da0-fb7a-3f779bb135ec"
      },
      "source": [
        "df_covid.head()"
      ],
      "execution_count": null,
      "outputs": [
        {
          "output_type": "execute_result",
          "data": {
            "text/html": [
              "<div>\n",
              "<style scoped>\n",
              "    .dataframe tbody tr th:only-of-type {\n",
              "        vertical-align: middle;\n",
              "    }\n",
              "\n",
              "    .dataframe tbody tr th {\n",
              "        vertical-align: top;\n",
              "    }\n",
              "\n",
              "    .dataframe thead th {\n",
              "        text-align: right;\n",
              "    }\n",
              "</style>\n",
              "<table border=\"1\" class=\"dataframe\">\n",
              "  <thead>\n",
              "    <tr style=\"text-align: right;\">\n",
              "      <th></th>\n",
              "      <th>User</th>\n",
              "      <th>Text</th>\n",
              "      <th>Favorites</th>\n",
              "      <th>Retweets</th>\n",
              "      <th>Mentions</th>\n",
              "      <th>Hashtags</th>\n",
              "      <th>Geolocation</th>\n",
              "    </tr>\n",
              "    <tr>\n",
              "      <th>Date</th>\n",
              "      <th></th>\n",
              "      <th></th>\n",
              "      <th></th>\n",
              "      <th></th>\n",
              "      <th></th>\n",
              "      <th></th>\n",
              "      <th></th>\n",
              "    </tr>\n",
              "  </thead>\n",
              "  <tbody>\n",
              "    <tr>\n",
              "      <th>2020-03-30 23:56:42+00:00</th>\n",
              "      <td>xenonwolf</td>\n",
              "      <td>OMG Lola is out of her bubble again!! She visi...</td>\n",
              "      <td>0</td>\n",
              "      <td>0</td>\n",
              "      <td></td>\n",
              "      <td>#lockdown #coronavirus #therapydog</td>\n",
              "      <td></td>\n",
              "    </tr>\n",
              "    <tr>\n",
              "      <th>2020-03-30 23:55:46+00:00</th>\n",
              "      <td>AlexM_Wailan</td>\n",
              "      <td>Iso Day 4. It's important to get into your wor...</td>\n",
              "      <td>1</td>\n",
              "      <td>8</td>\n",
              "      <td></td>\n",
              "      <td>#WFM #PhDchat #COVID19 #AcademicChatter #Acade...</td>\n",
              "      <td></td>\n",
              "    </tr>\n",
              "    <tr>\n",
              "      <th>2020-03-30 23:55:39+00:00</th>\n",
              "      <td>KevinHMTang</td>\n",
              "      <td>A different doctors' day this year 2020, armor...</td>\n",
              "      <td>0</td>\n",
              "      <td>3</td>\n",
              "      <td></td>\n",
              "      <td>#gownupdoctors #doctorsday2020 #coronavirusaus</td>\n",
              "      <td></td>\n",
              "    </tr>\n",
              "    <tr>\n",
              "      <th>2020-03-30 23:55:36+00:00</th>\n",
              "      <td>elee_bella</td>\n",
              "      <td>No, I’ve just finished for the week. I usually...</td>\n",
              "      <td>0</td>\n",
              "      <td>1</td>\n",
              "      <td></td>\n",
              "      <td></td>\n",
              "      <td></td>\n",
              "    </tr>\n",
              "    <tr>\n",
              "      <th>2020-03-30 23:52:17+00:00</th>\n",
              "      <td>elee_bella</td>\n",
              "      <td>I just want to be with someone who loves me en...</td>\n",
              "      <td>0</td>\n",
              "      <td>1</td>\n",
              "      <td></td>\n",
              "      <td></td>\n",
              "      <td></td>\n",
              "    </tr>\n",
              "  </tbody>\n",
              "</table>\n",
              "</div>"
            ],
            "text/plain": [
              "                                   User  ... Geolocation\n",
              "Date                                     ...            \n",
              "2020-03-30 23:56:42+00:00     xenonwolf  ...            \n",
              "2020-03-30 23:55:46+00:00  AlexM_Wailan  ...            \n",
              "2020-03-30 23:55:39+00:00   KevinHMTang  ...            \n",
              "2020-03-30 23:55:36+00:00    elee_bella  ...            \n",
              "2020-03-30 23:52:17+00:00    elee_bella  ...            \n",
              "\n",
              "[5 rows x 7 columns]"
            ]
          },
          "metadata": {
            "tags": []
          },
          "execution_count": 48
        }
      ]
    },
    {
      "cell_type": "code",
      "metadata": {
        "id": "IRRC9gfAf0PZ",
        "colab_type": "code",
        "colab": {
          "base_uri": "https://localhost:8080/",
          "height": 431
        },
        "outputId": "d773bd92-aa78-4c4f-9d7d-bc24ab043129"
      },
      "source": [
        "df_covid.tz_convert('NZ')"
      ],
      "execution_count": null,
      "outputs": [
        {
          "output_type": "execute_result",
          "data": {
            "text/html": [
              "<div>\n",
              "<style scoped>\n",
              "    .dataframe tbody tr th:only-of-type {\n",
              "        vertical-align: middle;\n",
              "    }\n",
              "\n",
              "    .dataframe tbody tr th {\n",
              "        vertical-align: top;\n",
              "    }\n",
              "\n",
              "    .dataframe thead th {\n",
              "        text-align: right;\n",
              "    }\n",
              "</style>\n",
              "<table border=\"1\" class=\"dataframe\">\n",
              "  <thead>\n",
              "    <tr style=\"text-align: right;\">\n",
              "      <th></th>\n",
              "      <th>User</th>\n",
              "      <th>Text</th>\n",
              "      <th>Favorites</th>\n",
              "      <th>Retweets</th>\n",
              "      <th>Mentions</th>\n",
              "      <th>Hashtags</th>\n",
              "      <th>Geolocation</th>\n",
              "    </tr>\n",
              "    <tr>\n",
              "      <th>Date</th>\n",
              "      <th></th>\n",
              "      <th></th>\n",
              "      <th></th>\n",
              "      <th></th>\n",
              "      <th></th>\n",
              "      <th></th>\n",
              "      <th></th>\n",
              "    </tr>\n",
              "  </thead>\n",
              "  <tbody>\n",
              "    <tr>\n",
              "      <th>2020-03-31 12:56:42+13:00</th>\n",
              "      <td>xenonwolf</td>\n",
              "      <td>OMG Lola is out of her bubble again!! She visi...</td>\n",
              "      <td>0</td>\n",
              "      <td>0</td>\n",
              "      <td></td>\n",
              "      <td>#lockdown #coronavirus #therapydog</td>\n",
              "      <td></td>\n",
              "    </tr>\n",
              "    <tr>\n",
              "      <th>2020-03-31 12:55:46+13:00</th>\n",
              "      <td>AlexM_Wailan</td>\n",
              "      <td>Iso Day 4. It's important to get into your wor...</td>\n",
              "      <td>1</td>\n",
              "      <td>8</td>\n",
              "      <td></td>\n",
              "      <td>#WFM #PhDchat #COVID19 #AcademicChatter #Acade...</td>\n",
              "      <td></td>\n",
              "    </tr>\n",
              "    <tr>\n",
              "      <th>2020-03-31 12:55:39+13:00</th>\n",
              "      <td>KevinHMTang</td>\n",
              "      <td>A different doctors' day this year 2020, armor...</td>\n",
              "      <td>0</td>\n",
              "      <td>3</td>\n",
              "      <td></td>\n",
              "      <td>#gownupdoctors #doctorsday2020 #coronavirusaus</td>\n",
              "      <td></td>\n",
              "    </tr>\n",
              "    <tr>\n",
              "      <th>2020-03-31 12:55:36+13:00</th>\n",
              "      <td>elee_bella</td>\n",
              "      <td>No, I’ve just finished for the week. I usually...</td>\n",
              "      <td>0</td>\n",
              "      <td>1</td>\n",
              "      <td></td>\n",
              "      <td></td>\n",
              "      <td></td>\n",
              "    </tr>\n",
              "    <tr>\n",
              "      <th>2020-03-31 12:52:17+13:00</th>\n",
              "      <td>elee_bella</td>\n",
              "      <td>I just want to be with someone who loves me en...</td>\n",
              "      <td>0</td>\n",
              "      <td>1</td>\n",
              "      <td></td>\n",
              "      <td></td>\n",
              "      <td></td>\n",
              "    </tr>\n",
              "    <tr>\n",
              "      <th>...</th>\n",
              "      <td>...</td>\n",
              "      <td>...</td>\n",
              "      <td>...</td>\n",
              "      <td>...</td>\n",
              "      <td>...</td>\n",
              "      <td>...</td>\n",
              "      <td>...</td>\n",
              "    </tr>\n",
              "    <tr>\n",
              "      <th>2020-03-31 00:07:50+13:00</th>\n",
              "      <td>nightingalesurg</td>\n",
              "      <td>Thanks @GongGasGirl it’s not too hard for us s...</td>\n",
              "      <td>0</td>\n",
              "      <td>1</td>\n",
              "      <td>@GongGasGirl</td>\n",
              "      <td></td>\n",
              "      <td></td>\n",
              "    </tr>\n",
              "    <tr>\n",
              "      <th>2020-03-31 00:07:27+13:00</th>\n",
              "      <td>vvanluvghost</td>\n",
              "      <td>Day 8 The scent of the grapefruit can always c...</td>\n",
              "      <td>0</td>\n",
              "      <td>0</td>\n",
              "      <td></td>\n",
              "      <td></td>\n",
              "      <td></td>\n",
              "    </tr>\n",
              "    <tr>\n",
              "      <th>2020-03-31 00:06:26+13:00</th>\n",
              "      <td>todd_said</td>\n",
              "      <td>#Q&amp;amp;A from the frontline vasilation at a go...</td>\n",
              "      <td>0</td>\n",
              "      <td>0</td>\n",
              "      <td></td>\n",
              "      <td>#Q</td>\n",
              "      <td></td>\n",
              "    </tr>\n",
              "    <tr>\n",
              "      <th>2020-03-31 00:06:07+13:00</th>\n",
              "      <td>bianca_demarchi</td>\n",
              "      <td>Hundreds of empty luggage trollies are seen st...</td>\n",
              "      <td>5</td>\n",
              "      <td>23</td>\n",
              "      <td>@SydneyAirport</td>\n",
              "      <td>#coronavirus #COVID19Aus</td>\n",
              "      <td></td>\n",
              "    </tr>\n",
              "    <tr>\n",
              "      <th>2020-03-31 00:05:45+13:00</th>\n",
              "      <td>Monsoonchick</td>\n",
              "      <td>Stay safe a, stay home and don’t forget social...</td>\n",
              "      <td>0</td>\n",
              "      <td>0</td>\n",
              "      <td></td>\n",
              "      <td></td>\n",
              "      <td></td>\n",
              "    </tr>\n",
              "  </tbody>\n",
              "</table>\n",
              "<p>703 rows × 7 columns</p>\n",
              "</div>"
            ],
            "text/plain": [
              "                                      User  ... Geolocation\n",
              "Date                                        ...            \n",
              "2020-03-31 12:56:42+13:00        xenonwolf  ...            \n",
              "2020-03-31 12:55:46+13:00     AlexM_Wailan  ...            \n",
              "2020-03-31 12:55:39+13:00      KevinHMTang  ...            \n",
              "2020-03-31 12:55:36+13:00       elee_bella  ...            \n",
              "2020-03-31 12:52:17+13:00       elee_bella  ...            \n",
              "...                                    ...  ...         ...\n",
              "2020-03-31 00:07:50+13:00  nightingalesurg  ...            \n",
              "2020-03-31 00:07:27+13:00     vvanluvghost  ...            \n",
              "2020-03-31 00:06:26+13:00        todd_said  ...            \n",
              "2020-03-31 00:06:07+13:00  bianca_demarchi  ...            \n",
              "2020-03-31 00:05:45+13:00     Monsoonchick  ...            \n",
              "\n",
              "[703 rows x 7 columns]"
            ]
          },
          "metadata": {
            "tags": []
          },
          "execution_count": 49
        }
      ]
    },
    {
      "cell_type": "code",
      "metadata": {
        "id": "kl2BJPCMl915",
        "colab_type": "code",
        "colab": {}
      },
      "source": [
        ""
      ],
      "execution_count": null,
      "outputs": []
    }
  ]
}